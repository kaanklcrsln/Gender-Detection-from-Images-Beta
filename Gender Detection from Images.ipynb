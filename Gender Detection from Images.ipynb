{
 "cells": [
  {
   "cell_type": "code",
   "execution_count": 5,
   "id": "244007e2",
   "metadata": {},
   "outputs": [
    {
     "name": "stdout",
     "output_type": "stream",
     "text": [
      "1/1 [==============================] - 1s 1s/step\n",
      "snorkel: 0.07\n",
      "sunscreen: 0.05\n",
      "sunglasses: 0.03\n",
      "water_bottle: 0.02\n",
      "neck_brace: 0.02\n",
      "Gender could not be predicted.\n",
      "1/1 [==============================] - 0s 77ms/step\n",
      "syringe: 0.25\n",
      "book_jacket: 0.11\n",
      "church: 0.02\n",
      "comic_book: 0.02\n",
      "power_drill: 0.01\n",
      "Gender could not be predicted.\n"
     ]
    }
   ],
   "source": [
    "import tensorflow as tf\n",
    "from tensorflow.keras.applications import MobileNetV2\n",
    "from tensorflow.keras.applications.mobilenet_v2 import preprocess_input, decode_predictions\n",
    "from tensorflow.keras.preprocessing import image\n",
    "import cv2\n",
    "import numpy as np\n",
    "model = MobileNetV2(weights=\"imagenet\")\n",
    "\n",
    "img_path = r'C:\\Users\\ASUS\\Desktop\\kaan-man.jpeg'\n",
    "img = cv2.imread(img_path)\n",
    "img = cv2.resize(img, (224, 224))\n",
    "x = image.img_to_array(img)\n",
    "x = np.expand_dims(x, axis=0)\n",
    "x = preprocess_input(x)\n",
    "\n",
    "predictions = model.predict(x)\n",
    "decoded_predictions = decode_predictions(predictions, top=5)[0]\n",
    "\n",
    "for _, label, score in decoded_predictions:\n",
    "    print(f\"{label}: {score:.2f}\")\n",
    "\n",
    "highest_prediction = decoded_predictions[0][1]\n",
    "if \"man\" in highest_prediction.lower():\n",
    "    print(\"There is a man in this image.\")\n",
    "elif \"woman\" in highest_prediction.lower():\n",
    "    print(\"There is a woman in this image.\")\n",
    "else:\n",
    "    print(\"Gender could not be predicted.\")\n",
    "\n",
    "img_path = r'C:\\Users\\ASUS\\Desktop\\kaan-man-2.jpg'\n",
    "img = cv2.imread(img_path)\n",
    "img = cv2.resize(img, (224, 224))\n",
    "x = image.img_to_array(img)\n",
    "x = np.expand_dims(x, axis=0)\n",
    "x = preprocess_input(x)\n",
    "\n",
    "predictions = model.predict(x)\n",
    "decoded_predictions = decode_predictions(predictions, top=5)[0]\n",
    "\n",
    "for _, label, score in decoded_predictions:\n",
    "    print(f\"{label}: {score:.2f}\")\n",
    "\n",
    "highest_prediction = decoded_predictions[0][1]\n",
    "if \"man\" in highest_prediction.lower():\n",
    "    print(\"There is a man in this image.\")\n",
    "elif \"woman\" in highest_prediction.lower():\n",
    "    print(\"There is a woman in this image.\")\n",
    "else:\n",
    "    print(\"Gender could not be predicted.\")\n"
   ]
  },
  {
   "cell_type": "code",
   "execution_count": null,
   "id": "185dd2c2",
   "metadata": {},
   "outputs": [],
   "source": []
  }
 ],
 "metadata": {
  "kernelspec": {
   "display_name": "Python 3 (ipykernel)",
   "language": "python",
   "name": "python3"
  },
  "language_info": {
   "codemirror_mode": {
    "name": "ipython",
    "version": 3
   },
   "file_extension": ".py",
   "mimetype": "text/x-python",
   "name": "python",
   "nbconvert_exporter": "python",
   "pygments_lexer": "ipython3",
   "version": "3.9.13"
  }
 },
 "nbformat": 4,
 "nbformat_minor": 5
}
